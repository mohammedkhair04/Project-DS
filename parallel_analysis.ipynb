{
 "cells": [
  {
   "cell_type": "markdown",
   "metadata": {},
   "source": [
    "# Parallel Processing Analysis of Stock Data"
   ]
  },
  {
   "cell_type": "code",
   "execution_count": null,
   "metadata": {},
   "source": [
    "import pandas as pd\n",
    "import numpy as np\n",
    "import matplotlib.pyplot as plt\n",
    "import seaborn as sns\n",
    "from parallel_processing import parallel_process_data"
   ]
  },
  {
   "cell_type": "code",
   "execution_count": null,
   "metadata": {},
   "source": [
    "# Load the data\n",
    "df = pd.read_csv('all_stocks_5yr.csv')"
   ]
  },
  {
   "cell_type": "code",
   "execution_count": null,
   "metadata": {},
   "source": [
    "# Process data using parallel processing\n",
    "parallel_results = parallel_process_data(df)\n",
    "\n",
    "# Display results\n",
    "print(\"Parallel Processing Results:\")\n",
    "print(f\"Mean Close Price: {parallel_results['mean_close']:.2f}\")\n",
    "print(f\"Mean Volume: {parallel_results['mean_volume']:.2f}\")\n",
    "print(\"\nVolatility Statistics:\")\n",
    "print(parallel_results['volatility'].describe())"
   ]
  },
  {
   "cell_type": "code",
   "execution_count": null,
   "metadata": {},
   "source": [
    "# Visualize volatility distribution\n",
    "plt.figure(figsize=(12, 6))\n",
    "sns.histplot(data=parallel_results['volatility'], bins=50)\n",
    "plt.title('Distribution of Stock Price Volatility')\n",
    "plt.xlabel('Volatility (High - Low)')\n",
    "plt.ylabel('Count')\n",
    "plt.show()"
   ]
  }
 ],
 "metadata": {
  "kernelspec": {
   "display_name": "Python 3",
   "language": "python",
   "name": "python3"
  }
 },
 "nbformat": 4,
 "nbformat_minor": 4
}